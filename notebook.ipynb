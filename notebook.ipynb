{
 "cells": [
  {
   "cell_type": "code",
   "metadata": {
    "colab": {
     "base_uri": "https://localhost:8080/"
    },
    "id": "Wi1ziYxT27_i",
    "outputId": "89b45575-e117-490e-9993-9e4fb9886c9d",
    "ExecuteTime": {
     "end_time": "2024-10-07T22:53:50.939784Z",
     "start_time": "2024-10-07T22:53:50.936626Z"
    }
   },
   "source": "#!git clone https://github.com/KayoRBC/TCC.git",
   "outputs": [],
   "execution_count": 1
  },
  {
   "cell_type": "code",
   "metadata": {
    "colab": {
     "base_uri": "https://localhost:8080/"
    },
    "id": "s7rYT6nxoUWL",
    "outputId": "082ff8ec-914d-4725-c9f5-1f5ab629bf1d",
    "ExecuteTime": {
     "end_time": "2024-10-07T22:53:54.425650Z",
     "start_time": "2024-10-07T22:53:51.006066Z"
    }
   },
   "source": [
    "from reportlab.rl_settings import verbose\n",
    "!pip install pandas yfinance numpy matplotlib scikit-learn tensorflow requests joblib pytz python-dateutil pmdarima"
   ],
   "outputs": [
    {
     "name": "stdout",
     "output_type": "stream",
     "text": [
      "Defaulting to user installation because normal site-packages is not writeable\r\n",
      "Requirement already satisfied: pandas in /home/kayo/.local/lib/python3.10/site-packages (2.2.2)\r\n",
      "Requirement already satisfied: yfinance in /home/kayo/.local/lib/python3.10/site-packages (0.2.43)\r\n",
      "Requirement already satisfied: numpy in /home/kayo/.local/lib/python3.10/site-packages (1.26.4)\r\n",
      "Requirement already satisfied: matplotlib in /home/kayo/.local/lib/python3.10/site-packages (3.9.2)\r\n",
      "Requirement already satisfied: scikit-learn in /home/kayo/.local/lib/python3.10/site-packages (1.5.2)\r\n",
      "Requirement already satisfied: tensorflow in /home/kayo/.local/lib/python3.10/site-packages (2.17.0)\r\n",
      "Requirement already satisfied: requests in /home/kayo/.local/lib/python3.10/site-packages (2.32.3)\r\n",
      "Requirement already satisfied: joblib in /home/kayo/.local/lib/python3.10/site-packages (1.4.2)\r\n",
      "Requirement already satisfied: pytz in /home/kayo/.local/lib/python3.10/site-packages (2024.1)\r\n",
      "Requirement already satisfied: python-dateutil in /home/kayo/.local/lib/python3.10/site-packages (2.9.0.post0)\r\n",
      "Requirement already satisfied: pmdarima in /home/kayo/.local/lib/python3.10/site-packages (2.0.4)\r\n",
      "Requirement already satisfied: tzdata>=2022.7 in /home/kayo/.local/lib/python3.10/site-packages (from pandas) (2024.1)\r\n",
      "Requirement already satisfied: platformdirs>=2.0.0 in /home/kayo/.local/lib/python3.10/site-packages (from yfinance) (4.2.2)\r\n",
      "Requirement already satisfied: html5lib>=1.1 in /home/kayo/.local/lib/python3.10/site-packages (from yfinance) (1.1)\r\n",
      "Requirement already satisfied: lxml>=4.9.1 in /home/kayo/.local/lib/python3.10/site-packages (from yfinance) (5.3.0)\r\n",
      "Requirement already satisfied: multitasking>=0.0.7 in /home/kayo/.local/lib/python3.10/site-packages (from yfinance) (0.0.11)\r\n",
      "Requirement already satisfied: peewee>=3.16.2 in /home/kayo/.local/lib/python3.10/site-packages (from yfinance) (3.17.6)\r\n",
      "Requirement already satisfied: beautifulsoup4>=4.11.1 in /home/kayo/.local/lib/python3.10/site-packages (from yfinance) (4.12.3)\r\n",
      "Requirement already satisfied: frozendict>=2.3.4 in /home/kayo/.local/lib/python3.10/site-packages (from yfinance) (2.4.4)\r\n",
      "Requirement already satisfied: pyparsing>=2.3.1 in /usr/lib/python3/dist-packages (from matplotlib) (2.4.7)\r\n",
      "Requirement already satisfied: contourpy>=1.0.1 in /home/kayo/.local/lib/python3.10/site-packages (from matplotlib) (1.3.0)\r\n",
      "Requirement already satisfied: pillow>=8 in /home/kayo/.local/lib/python3.10/site-packages (from matplotlib) (10.4.0)\r\n",
      "Requirement already satisfied: packaging>=20.0 in /home/kayo/.local/lib/python3.10/site-packages (from matplotlib) (23.2)\r\n",
      "Requirement already satisfied: kiwisolver>=1.3.1 in /home/kayo/.local/lib/python3.10/site-packages (from matplotlib) (1.4.7)\r\n",
      "Requirement already satisfied: cycler>=0.10 in /home/kayo/.local/lib/python3.10/site-packages (from matplotlib) (0.12.1)\r\n",
      "Requirement already satisfied: fonttools>=4.22.0 in /home/kayo/.local/lib/python3.10/site-packages (from matplotlib) (4.54.1)\r\n",
      "Requirement already satisfied: scipy>=1.6.0 in /home/kayo/.local/lib/python3.10/site-packages (from scikit-learn) (1.14.1)\r\n",
      "Requirement already satisfied: threadpoolctl>=3.1.0 in /home/kayo/.local/lib/python3.10/site-packages (from scikit-learn) (3.5.0)\r\n",
      "Requirement already satisfied: grpcio<2.0,>=1.24.3 in /home/kayo/.local/lib/python3.10/site-packages (from tensorflow) (1.63.0)\r\n",
      "Requirement already satisfied: flatbuffers>=24.3.25 in /home/kayo/.local/lib/python3.10/site-packages (from tensorflow) (24.3.25)\r\n",
      "Requirement already satisfied: libclang>=13.0.0 in /home/kayo/.local/lib/python3.10/site-packages (from tensorflow) (18.1.1)\r\n",
      "Requirement already satisfied: astunparse>=1.6.0 in /home/kayo/.local/lib/python3.10/site-packages (from tensorflow) (1.6.3)\r\n",
      "Requirement already satisfied: absl-py>=1.0.0 in /home/kayo/.local/lib/python3.10/site-packages (from tensorflow) (2.1.0)\r\n",
      "Requirement already satisfied: ml-dtypes<0.5.0,>=0.3.1 in /home/kayo/.local/lib/python3.10/site-packages (from tensorflow) (0.4.1)\r\n",
      "Requirement already satisfied: h5py>=3.10.0 in /home/kayo/.local/lib/python3.10/site-packages (from tensorflow) (3.12.1)\r\n",
      "Requirement already satisfied: keras>=3.2.0 in /home/kayo/.local/lib/python3.10/site-packages (from tensorflow) (3.5.0)\r\n",
      "Requirement already satisfied: gast!=0.5.0,!=0.5.1,!=0.5.2,>=0.2.1 in /home/kayo/.local/lib/python3.10/site-packages (from tensorflow) (0.6.0)\r\n",
      "Requirement already satisfied: google-pasta>=0.1.1 in /home/kayo/.local/lib/python3.10/site-packages (from tensorflow) (0.2.0)\r\n",
      "Requirement already satisfied: six>=1.12.0 in /usr/lib/python3/dist-packages (from tensorflow) (1.16.0)\r\n",
      "Requirement already satisfied: typing-extensions>=3.6.6 in /home/kayo/.local/lib/python3.10/site-packages (from tensorflow) (4.12.2)\r\n",
      "Requirement already satisfied: termcolor>=1.1.0 in /home/kayo/.local/lib/python3.10/site-packages (from tensorflow) (2.4.0)\r\n",
      "Requirement already satisfied: wrapt>=1.11.0 in /home/kayo/.local/lib/python3.10/site-packages (from tensorflow) (1.16.0)\r\n",
      "Requirement already satisfied: tensorflow-io-gcs-filesystem>=0.23.1 in /home/kayo/.local/lib/python3.10/site-packages (from tensorflow) (0.37.1)\r\n",
      "Requirement already satisfied: opt-einsum>=2.3.2 in /home/kayo/.local/lib/python3.10/site-packages (from tensorflow) (3.4.0)\r\n",
      "Requirement already satisfied: setuptools in /home/kayo/.local/lib/python3.10/site-packages (from tensorflow) (73.0.1)\r\n",
      "Requirement already satisfied: protobuf!=4.21.0,!=4.21.1,!=4.21.2,!=4.21.3,!=4.21.4,!=4.21.5,<5.0.0dev,>=3.20.3 in /home/kayo/.local/lib/python3.10/site-packages (from tensorflow) (4.25.4)\r\n",
      "Requirement already satisfied: tensorboard<2.18,>=2.17 in /home/kayo/.local/lib/python3.10/site-packages (from tensorflow) (2.17.1)\r\n",
      "Requirement already satisfied: charset-normalizer<4,>=2 in /home/kayo/.local/lib/python3.10/site-packages (from requests) (3.3.2)\r\n",
      "Requirement already satisfied: idna<4,>=2.5 in /home/kayo/.local/lib/python3.10/site-packages (from requests) (3.8)\r\n",
      "Requirement already satisfied: urllib3<3,>=1.21.1 in /home/kayo/.local/lib/python3.10/site-packages (from requests) (2.2.2)\r\n",
      "Requirement already satisfied: certifi>=2017.4.17 in /home/kayo/.local/lib/python3.10/site-packages (from requests) (2024.7.4)\r\n",
      "Requirement already satisfied: Cython!=0.29.18,!=0.29.31,>=0.29 in /home/kayo/.local/lib/python3.10/site-packages (from pmdarima) (3.0.11)\r\n",
      "Requirement already satisfied: statsmodels>=0.13.2 in /home/kayo/.local/lib/python3.10/site-packages (from pmdarima) (0.14.3)\r\n",
      "Requirement already satisfied: wheel<1.0,>=0.23.0 in /usr/lib/python3/dist-packages (from astunparse>=1.6.0->tensorflow) (0.37.1)\r\n",
      "Requirement already satisfied: soupsieve>1.2 in /home/kayo/.local/lib/python3.10/site-packages (from beautifulsoup4>=4.11.1->yfinance) (2.6)\r\n",
      "Requirement already satisfied: webencodings in /home/kayo/.local/lib/python3.10/site-packages (from html5lib>=1.1->yfinance) (0.5.1)\r\n",
      "Requirement already satisfied: rich in /home/kayo/.local/lib/python3.10/site-packages (from keras>=3.2.0->tensorflow) (13.7.1)\r\n",
      "Requirement already satisfied: namex in /home/kayo/.local/lib/python3.10/site-packages (from keras>=3.2.0->tensorflow) (0.0.8)\r\n",
      "Requirement already satisfied: optree in /home/kayo/.local/lib/python3.10/site-packages (from keras>=3.2.0->tensorflow) (0.12.1)\r\n",
      "Requirement already satisfied: patsy>=0.5.6 in /home/kayo/.local/lib/python3.10/site-packages (from statsmodels>=0.13.2->pmdarima) (0.5.6)\r\n",
      "Requirement already satisfied: tensorboard-data-server<0.8.0,>=0.7.0 in /home/kayo/.local/lib/python3.10/site-packages (from tensorboard<2.18,>=2.17->tensorflow) (0.7.2)\r\n",
      "Requirement already satisfied: werkzeug>=1.0.1 in /home/kayo/.local/lib/python3.10/site-packages (from tensorboard<2.18,>=2.17->tensorflow) (3.0.4)\r\n",
      "Requirement already satisfied: markdown>=2.6.8 in /home/kayo/.local/lib/python3.10/site-packages (from tensorboard<2.18,>=2.17->tensorflow) (3.7)\r\n",
      "Requirement already satisfied: MarkupSafe>=2.1.1 in /home/kayo/.local/lib/python3.10/site-packages (from werkzeug>=1.0.1->tensorboard<2.18,>=2.17->tensorflow) (2.1.5)\r\n",
      "Requirement already satisfied: pygments<3.0.0,>=2.13.0 in /home/kayo/.local/lib/python3.10/site-packages (from rich->keras>=3.2.0->tensorflow) (2.18.0)\r\n",
      "Requirement already satisfied: markdown-it-py>=2.2.0 in /home/kayo/.local/lib/python3.10/site-packages (from rich->keras>=3.2.0->tensorflow) (3.0.0)\r\n",
      "Requirement already satisfied: mdurl~=0.1 in /home/kayo/.local/lib/python3.10/site-packages (from markdown-it-py>=2.2.0->rich->keras>=3.2.0->tensorflow) (0.1.2)\r\n"
     ]
    }
   ],
   "execution_count": 2
  },
  {
   "cell_type": "code",
   "metadata": {
    "id": "UOOODn7O1zhf",
    "ExecuteTime": {
     "end_time": "2024-10-07T22:54:00.000702Z",
     "start_time": "2024-10-07T22:53:54.626328Z"
    }
   },
   "source": [
    "import os\n",
    "import pandas as pd\n",
    "import yfinance as yf\n",
    "import numpy as np\n",
    "import matplotlib.pyplot as plt\n",
    "from sklearn.preprocessing import MinMaxScaler\n",
    "from tensorflow.keras.models import Sequential, load_model\n",
    "from tensorflow.keras.layers import LSTM, Dense\n",
    "import tensorflow as tf\n",
    "from pandas import DataFrame\n",
    "import requests\n",
    "from sklearn.model_selection import train_test_split\n",
    "from tensorflow.keras.callbacks import EarlyStopping\n",
    "import joblib\n",
    "from datetime import datetime, timedelta\n",
    "import pytz\n",
    "from dateutil.relativedelta import relativedelta"
   ],
   "outputs": [
    {
     "name": "stderr",
     "output_type": "stream",
     "text": [
      "2024-10-07 19:53:57.826431: I external/local_xla/xla/tsl/cuda/cudart_stub.cc:32] Could not find cuda drivers on your machine, GPU will not be used.\n",
      "2024-10-07 19:53:57.878911: I external/local_xla/xla/tsl/cuda/cudart_stub.cc:32] Could not find cuda drivers on your machine, GPU will not be used.\n",
      "2024-10-07 19:53:57.935039: E external/local_xla/xla/stream_executor/cuda/cuda_fft.cc:485] Unable to register cuFFT factory: Attempting to register factory for plugin cuFFT when one has already been registered\n",
      "2024-10-07 19:53:58.001605: E external/local_xla/xla/stream_executor/cuda/cuda_dnn.cc:8454] Unable to register cuDNN factory: Attempting to register factory for plugin cuDNN when one has already been registered\n",
      "2024-10-07 19:53:58.016122: E external/local_xla/xla/stream_executor/cuda/cuda_blas.cc:1452] Unable to register cuBLAS factory: Attempting to register factory for plugin cuBLAS when one has already been registered\n",
      "2024-10-07 19:53:58.104454: I tensorflow/core/platform/cpu_feature_guard.cc:210] This TensorFlow binary is optimized to use available CPU instructions in performance-critical operations.\n",
      "To enable the following instructions: AVX2 FMA, in other operations, rebuild TensorFlow with the appropriate compiler flags.\n",
      "2024-10-07 19:53:59.297120: W tensorflow/compiler/tf2tensorrt/utils/py_utils.cc:38] TF-TRT Warning: Could not find TensorRT\n"
     ]
    }
   ],
   "execution_count": 3
  },
  {
   "cell_type": "markdown",
   "metadata": {
    "id": "O_DIPzGNbjXk"
   },
   "source": [
    "## Seleção das ações\n",
    "Nesta primeira etapa, iremos pegar as 100 ações da b3 mais negociadas no dia 2023-12-28, ou seja, que possuem o maior \"Volume\" nesse dia. Além disso, elas precisam ter no mínimo 10 anos de histórico na bolsa."
   ]
  },
  {
   "cell_type": "code",
   "metadata": {
    "id": "FC465QleLFkx",
    "ExecuteTime": {
     "end_time": "2024-10-07T22:54:00.013515Z",
     "start_time": "2024-10-07T22:54:00.010888Z"
    }
   },
   "source": [
    "# contantes\n",
    "max_history_date = \"2023-12-28\""
   ],
   "outputs": [],
   "execution_count": 4
  },
  {
   "cell_type": "code",
   "metadata": {
    "id": "z6RoovNGflIc",
    "ExecuteTime": {
     "end_time": "2024-10-07T22:54:00.060294Z",
     "start_time": "2024-10-07T22:54:00.056497Z"
    }
   },
   "source": [
    "def somar_um_dia(date: str) -> str:\n",
    "  data = datetime.strptime(date, \"%Y-%m-%d\")\n",
    "  date = data + timedelta(days=1)\n",
    "  return date.strftime(\"%Y-%m-%d\")"
   ],
   "outputs": [],
   "execution_count": 5
  },
  {
   "cell_type": "code",
   "metadata": {
    "id": "1iQBOsgZLTW2",
    "ExecuteTime": {
     "end_time": "2024-10-07T22:54:00.111547Z",
     "start_time": "2024-10-07T22:54:00.106903Z"
    }
   },
   "source": [
    "def get_b3_ticker_symbols() -> list:\n",
    "  \"\"\"\n",
    "  download do csv nesse link: https://www.dadosdemercado.com.br/acoes\n",
    "  \"\"\"\n",
    "  tickers_df = pd.read_csv('acoes-listadas-b3.csv')\n",
    "  return [f\"{t}.SA\" for t in tickers_df['Ticker'].tolist()]\n"
   ],
   "outputs": [],
   "execution_count": 6
  },
  {
   "cell_type": "code",
   "metadata": {
    "id": "hTySAwwY7bf6",
    "ExecuteTime": {
     "end_time": "2024-10-07T22:54:00.162368Z",
     "start_time": "2024-10-07T22:54:00.157841Z"
    }
   },
   "source": [
    "def download_tickers_history(lst_ticker_symbols: list, max_history_date: str) -> dict:\n",
    "  df_tickers = yf.download(\" \".join(lst_ticker_symbols), end=somar_um_dia(max_history_date), group_by=\"ticker\")\n",
    "  dict_tickers = {}\n",
    "  for ticker_symbol in set([t[0] for t in df_tickers.keys()]):\n",
    "    dict_tickers[ticker_symbol] = df_tickers[ticker_symbol].dropna()\n",
    "  return dict_tickers"
   ],
   "outputs": [],
   "execution_count": 7
  },
  {
   "cell_type": "code",
   "metadata": {
    "id": "_AsppnS5BgZ9",
    "ExecuteTime": {
     "end_time": "2024-10-07T22:54:00.213520Z",
     "start_time": "2024-10-07T22:54:00.209036Z"
    }
   },
   "source": [
    "def filter_tickers_history_by_age(dict_ticker_history: dict, max_history_date: str, min_age_in_years: int) -> dict:\n",
    "  dict_tickers = {}\n",
    "  min_history_date = pytz.utc.localize(datetime.strptime(max_history_date, \"%Y-%m-%d\")) - relativedelta(years=min_age_in_years)\n",
    "  for t, history in dict_tickers_history.items():\n",
    "    if not history.empty and history.index.min() < min_history_date:\n",
    "      dict_tickers[t] = history\n",
    "  return dict_tickers"
   ],
   "outputs": [],
   "execution_count": 8
  },
  {
   "cell_type": "code",
   "source": [
    "lst_b3_ticker_symbol = get_b3_ticker_symbols()\n",
    "print(lst_b3_ticker_symbol)"
   ],
   "metadata": {
    "colab": {
     "base_uri": "https://localhost:8080/"
    },
    "id": "ra7-gKY9J0Es",
    "outputId": "6e83003b-b919-4c55-dc85-372e2876f90f",
    "ExecuteTime": {
     "end_time": "2024-10-07T22:54:00.284359Z",
     "start_time": "2024-10-07T22:54:00.268840Z"
    }
   },
   "outputs": [
    {
     "name": "stdout",
     "output_type": "stream",
     "text": [
      "['LREN3.SA', 'B3SA3.SA', 'HAPV3.SA', 'PETR4.SA', 'ENEV3.SA', 'EMBR3.SA', 'ITUB4.SA', 'AZUL4.SA', 'BBDC4.SA', 'ABEV3.SA', 'ITSA4.SA', 'ASAI3.SA', 'COGN3.SA', 'PETZ3.SA', 'PETR3.SA', 'VALE3.SA', 'BBAS3.SA', 'CPLE6.SA', 'RDOR3.SA', 'CSAN3.SA', 'STBP3.SA', 'MGLU3.SA', 'CMIG4.SA', 'GGBR4.SA', 'IFCM3.SA', 'POMO4.SA', 'CXSE3.SA', 'ELET3.SA', 'RENT3.SA', 'RAIL3.SA', 'WEGE3.SA', 'CMIN3.SA', 'VBBR3.SA', 'CVCB3.SA', 'CCRO3.SA', 'UGPA3.SA', 'TIMS3.SA', 'NTCO3.SA', 'RAIZ4.SA', 'QUAL3.SA', 'EQTL3.SA', 'RADL3.SA', 'JBSS3.SA', 'USIM5.SA', 'FLRY3.SA', 'CSNA3.SA', 'SUZB3.SA', 'CRFB3.SA', 'AMER3.SA', 'RRRP3.SA', 'CPLE3.SA', 'AURE3.SA', 'BBDC3.SA', 'HBSA3.SA', 'DXCO3.SA', 'BEEF3.SA', 'SBSP3.SA', 'PRIO3.SA', 'BBSE3.SA', 'BRFS3.SA', 'ONCO3.SA', 'ALOS3.SA', 'MRVE3.SA', 'PCAR3.SA', 'YDUQ3.SA', 'GOLL4.SA', 'GGPS3.SA', 'VAMO3.SA', 'MLAS3.SA', 'TOTS3.SA', 'AZEV4.SA', 'VVEO3.SA', 'BHIA3.SA', 'HYPE3.SA', 'ECOR3.SA', 'CYRE3.SA', 'GOAU4.SA', 'BRKM5.SA', 'VIVT3.SA', 'VIVA3.SA', 'MULT3.SA', 'LWSA3.SA', 'ALPA4.SA', 'OPCT3.SA', 'AZZA3.SA', 'ANIM3.SA', 'BRAP4.SA', 'MRFG3.SA', 'CPFE3.SA', 'JHSF3.SA', 'SIMH3.SA', 'RANI3.SA', 'MOVI3.SA', 'CLSA3.SA', 'SRNA3.SA', 'CURY3.SA', 'POSI3.SA', 'RAPT4.SA', 'ELET6.SA', 'AESB3.SA', 'EGIE3.SA', 'RECV3.SA', 'MATD3.SA', 'DIRR3.SA', 'GFSA3.SA', 'LJQQ3.SA', 'SMFT3.SA', 'BPAN4.SA', 'SAPR4.SA', 'CBAV3.SA', 'TEND3.SA', 'GMAT3.SA', 'SEQL3.SA', 'CEAB3.SA', 'MBLY3.SA', 'SLCE3.SA', 'TRPL4.SA', 'JSLG3.SA', 'EZTC3.SA', 'SOJA3.SA', 'CASH3.SA', 'ENJU3.SA', 'RCSL3.SA', 'PLPL3.SA', 'BRSR6.SA', 'KLBN4.SA', 'IRBR3.SA', 'SMTO3.SA', 'CSMG3.SA', 'AERI3.SA', 'SBFG3.SA', 'LIGT3.SA', 'DASA3.SA', 'PORT3.SA', 'NEOE3.SA', 'KEPL3.SA', 'ZAMP3.SA', 'MILS3.SA', 'MYPK3.SA', 'MELK3.SA', 'OIBR3.SA', 'GRND3.SA', 'PSSA3.SA', 'GUAR3.SA', 'WIZC3.SA', 'TTEN3.SA', 'PGMN3.SA', 'FESA4.SA', 'JFEN3.SA', 'MDIA3.SA', 'ITUB3.SA', 'ODPV3.SA', 'BRAP3.SA', 'JALL3.SA', 'LAVV3.SA', 'ARML3.SA', 'AZEV3.SA', 'CMIG3.SA', 'ABCB4.SA', 'MTRE3.SA', 'EVEN3.SA', 'LOGG3.SA', 'AMAR3.SA', 'VLID3.SA', 'AMBP3.SA', 'BLAU3.SA', 'VULC3.SA', 'CAML3.SA', 'ROMI3.SA', 'LEVE3.SA', 'INTB3.SA', 'TUPY3.SA', 'USIM3.SA', 'BMGB4.SA', 'MDNE3.SA', 'FRAS3.SA', 'AGXY3.SA', 'HBRE3.SA', 'ORVR3.SA', 'HBOR3.SA', 'PNVL3.SA', 'MEAL3.SA', 'CSED3.SA', 'TASA4.SA', 'FIQE3.SA', 'PDGR3.SA', 'TRAD3.SA', 'UNIP6.SA', 'SYNE3.SA', 'KLBN3.SA', 'POMO3.SA', 'BMOB3.SA', 'TRIS3.SA', 'AGRO3.SA', 'TGMA3.SA', 'SHUL4.SA', 'LPSB3.SA', 'SHOW3.SA', 'PTBL3.SA', 'BRIT3.SA', 'NGRD3.SA', 'SEER3.SA', 'ESPA3.SA', 'VITT3.SA', 'ETER3.SA', 'RCSL4.SA', 'PMAM3.SA', 'PRNR3.SA', 'TECN3.SA', 'PFRM3.SA', 'PINE4.SA', 'TAEE4.SA', 'SAPR3.SA', 'WEST3.SA', 'TPIS3.SA', 'ITSA3.SA', 'LAND3.SA', 'LUPA3.SA', 'DESK3.SA', 'DOTZ3.SA', 'SANB3.SA', 'VTRU3.SA', 'ALPK3.SA', 'TAEE3.SA', 'ELMD3.SA', 'CTSA4.SA', 'SANB4.SA', 'PDTC3.SA', 'DMVF3.SA', 'BIOM3.SA', 'CAMB3.SA', 'INEP3.SA', 'KRSA3.SA', 'RPMG3.SA', 'UCAS3.SA', 'TCSA3.SA', 'TFCO4.SA', 'EUCA4.SA', 'VIVR3.SA', 'FRIO3.SA', 'AALR3.SA', 'SCAR3.SA', 'GGBR3.SA', 'RNEW4.SA', 'ALLD3.SA', 'DEXP3.SA', 'CSUD3.SA', 'RNEW3.SA', 'OFSA3.SA', 'EALT4.SA', 'GOAU3.SA', 'LOGN3.SA', 'AVLL3.SA', 'INEP4.SA', 'COCE5.SA', 'RAPT3.SA', 'ALUP4.SA', 'BMEB4.SA', 'RSID3.SA', 'EQPA3.SA', 'TASA3.SA', 'BEES3.SA', 'LVTC3.SA', 'ALUP3.SA', 'DEXP4.SA', 'SNSY5.SA', 'BRKM3.SA', 'UNIP3.SA', 'OIBR4.SA', 'EALT3.SA', 'BRSR3.SA', 'PTNT4.SA', 'IGTI3.SA', 'IGTI3.SA', 'EPAR3.SA', 'NINJ3.SA', 'ATMP3.SA', 'NUTR3.SA', 'ENGI4.SA', 'ENGI3.SA', 'ATOM3.SA', 'PATI3.SA', 'CEBR3.SA', 'TELB4.SA', 'MTSA4.SA', 'AMAR11.SA', 'FHER3.SA', 'RDNI3.SA', 'AZEV11.SA', 'VSTE3.SA', 'BAHI3.SA', 'HAGA4.SA', 'CLSC4.SA', 'RSUL4.SA', 'CRPG5.SA', 'CEBR6.SA', 'MNDL3.SA', 'ALPA3.SA', 'CGAS5.SA', 'CGRA4.SA', 'CEBR5.SA', 'BMEB3.SA', 'WHRL4.SA', 'BOBR4.SA', 'TRPL3.SA', 'BPAC5.SA', 'UNIP5.SA', 'APER3.SA', 'EKTR4.SA', 'LUXM4.SA', 'BEES4.SA', 'TELB3.SA', 'BIOM11.SA', 'PSVM11.SA', 'BGIP4.SA', 'NEXP3.SA', 'HAGA3.SA', 'PINE3.SA', 'DOHL4.SA', 'WHRL3.SA', 'CTSA3.SA', 'ENMT4.SA', 'PEAB4.SA', 'MNPR3.SA', 'BAZA3.SA', 'GEPA4.SA', 'CEDO4.SA', 'PTNT3.SA', 'RPAD5.SA', 'REDE3.SA', 'OSXB3.SA', 'SNSY3.SA', 'BDLL4.SA', 'PEAB3.SA', 'EMAE4.SA', 'MGEL4.SA', 'HETA4.SA', 'BNBR3.SA', 'PATI4.SA', 'WLMM4.SA', 'MRSA3B.SA', 'CRPG6.SA', 'EUCA3.SA', 'BPAC3.SA', 'NORD3.SA', 'BALM4.SA', 'BSLI4.SA', 'PLAS3.SA', 'HOOT4.SA', 'BAUH4.SA', 'EMAE3.SA', 'LIPR3.SA', 'HBTS5.SA', 'WLMM3.SA', 'GEPA3.SA', 'JOPA3.SA', 'CTKA4.SA', 'CEED3.SA', 'MWET4.SA', 'FIEI3.SA', 'AFLT3.SA', 'MAPT4.SA', 'BMKS3.SA', 'CPLE5.SA', 'CSRN3.SA', 'FESA3.SA', 'CLSC3.SA', 'AHEB5.SA', 'CEEB3.SA', 'ENMT3.SA', 'PINE11.SA', 'TEKA4.SA', 'CSRN5.SA', 'IGTI4.SA', 'IGTI4.SA', 'EQPA5.SA', 'DTCY3.SA', 'MRSA6B.SA', 'CSRN6.SA', 'ESTR4.SA', 'BMIN4.SA', 'EQMA3B.SA', 'BMIN3.SA', 'CGRA3.SA', 'BALM3.SA', 'CIEL3.SA', 'BSLI3.SA', 'AHEB3.SA', 'TKNO4.SA', 'CEDO3.SA', 'BGIP3.SA', 'BRSR5.SA', 'MAPT3.SA', 'MRSA5B.SA', 'CBEE3.SA', 'MSPA3.SA', 'MSPA4.SA', 'RPAD3.SA', 'BRKM6.SA', 'USIM6.SA', 'CGAS3.SA', 'AHEB6.SA', 'MERC4.SA']\n"
     ]
    }
   ],
   "execution_count": 9
  },
  {
   "cell_type": "code",
   "source": [
    "dict_tickers_history = download_tickers_history(lst_b3_ticker_symbol, max_history_date)"
   ],
   "metadata": {
    "colab": {
     "base_uri": "https://localhost:8080/"
    },
    "id": "QaV2ShfqI4Ed",
    "outputId": "c40200de-cb33-47e7-b709-a9a4676e9f1f",
    "ExecuteTime": {
     "end_time": "2024-10-07T22:54:48.521440Z",
     "start_time": "2024-10-07T22:54:00.334728Z"
    }
   },
   "outputs": [
    {
     "name": "stderr",
     "output_type": "stream",
     "text": [
      "[*********************100%***********************]  401 of 401 completed\n",
      "\n",
      "7 Failed downloads:\n",
      "['VTRU3.SA', 'INEP4.SA']: YFPricesMissingError('$%ticker%: possibly delisted; no price data found  (1d 1925-01-22 -> 2023-12-29) (Yahoo error = \"Data doesn\\'t exist for startDate = -1418245200, endDate = 1703818800\")')\n",
      "['PINE11.SA', 'AMAR11.SA', 'AZEV11.SA', 'BIOM11.SA']: YFTzMissingError('$%ticker%: possibly delisted; no timezone found')\n",
      "['ALPA4.SA']: JSONDecodeError('Expecting value: line 1 column 1 (char 0)')\n"
     ]
    }
   ],
   "execution_count": 10
  },
  {
   "cell_type": "code",
   "source": [
    "print(len(dict_tickers_history.keys()))\n",
    "print(dict_tickers_history.keys())"
   ],
   "metadata": {
    "colab": {
     "base_uri": "https://localhost:8080/"
    },
    "id": "6ciLWmItOr7X",
    "outputId": "24909d36-9503-4b45-f9aa-529a359ecd28",
    "ExecuteTime": {
     "end_time": "2024-10-07T22:54:48.538337Z",
     "start_time": "2024-10-07T22:54:48.535710Z"
    }
   },
   "outputs": [
    {
     "name": "stdout",
     "output_type": "stream",
     "text": [
      "401\n",
      "dict_keys(['DTCY3.SA', 'PETR3.SA', 'SUZB3.SA', 'BEEF3.SA', 'BRKM6.SA', 'ATMP3.SA', 'RECV3.SA', 'RCSL4.SA', 'BGIP3.SA', 'ITUB4.SA', 'BRFS3.SA', 'AZUL4.SA', 'PTNT3.SA', 'BRKM5.SA', 'AHEB5.SA', 'CRPG5.SA', 'MILS3.SA', 'TASA4.SA', 'SNSY5.SA', 'AURE3.SA', 'CTKA4.SA', 'BGIP4.SA', 'EKTR4.SA', 'PNVL3.SA', 'YDUQ3.SA', 'EPAR3.SA', 'JALL3.SA', 'RDNI3.SA', 'RAIL3.SA', 'VTRU3.SA', 'TKNO4.SA', 'HAPV3.SA', 'EALT3.SA', 'ITSA3.SA', 'QUAL3.SA', 'UNIP5.SA', 'CPFE3.SA', 'IGTI4.SA', 'EQTL3.SA', 'FHER3.SA', 'CURY3.SA', 'AZEV4.SA', 'RANI3.SA', 'MRSA3B.SA', 'CGAS3.SA', 'POMO3.SA', 'HBSA3.SA', 'MOVI3.SA', 'CGAS5.SA', 'CSRN6.SA', 'CMIG3.SA', 'BBDC3.SA', 'ALPA3.SA', 'SEER3.SA', 'DEXP3.SA', 'KEPL3.SA', 'ELMD3.SA', 'NORD3.SA', 'ATOM3.SA', 'MEAL3.SA', 'MRFG3.SA', 'USIM5.SA', 'LUPA3.SA', 'RNEW3.SA', 'CASH3.SA', 'AGRO3.SA', 'BRSR3.SA', 'PRIO3.SA', 'PFRM3.SA', 'PINE4.SA', 'PINE11.SA', 'DOHL4.SA', 'PINE3.SA', 'PTNT4.SA', 'AZZA3.SA', 'CLSA3.SA', 'JFEN3.SA', 'PEAB3.SA', 'SLCE3.SA', 'BAUH4.SA', 'STBP3.SA', 'SOJA3.SA', 'EQPA5.SA', 'GEPA4.SA', 'CGRA3.SA', 'PEAB4.SA', 'SRNA3.SA', 'CLSC3.SA', 'ALPA4.SA', 'TAEE3.SA', 'AVLL3.SA', 'CEEB3.SA', 'BRSR5.SA', 'CYRE3.SA', 'VSTE3.SA', 'GOAU4.SA', 'ELET3.SA', 'CEDO3.SA', 'ELET6.SA', 'PRNR3.SA', 'APER3.SA', 'MSPA4.SA', 'VVEO3.SA', 'BHIA3.SA', 'TCSA3.SA', 'AHEB3.SA', 'TPIS3.SA', 'TOTS3.SA', 'AGXY3.SA', 'FESA3.SA', 'INEP4.SA', 'BRSR6.SA', 'TGMA3.SA', 'BOBR4.SA', 'CEED3.SA', 'ITUB3.SA', 'MGEL4.SA', 'PDGR3.SA', 'LIGT3.SA', 'B3SA3.SA', 'MTRE3.SA', 'ECOR3.SA', 'OSXB3.SA', 'SIMH3.SA', 'MNDL3.SA', 'AMAR3.SA', 'OPCT3.SA', 'CTSA4.SA', 'WLMM3.SA', 'BEES4.SA', 'UNIP3.SA', 'HBTS5.SA', 'ENMT4.SA', 'EQMA3B.SA', 'CRFB3.SA', 'AMER3.SA', 'BPAC5.SA', 'EUCA3.SA', 'TASA3.SA', 'MGLU3.SA', 'SNSY3.SA', 'LPSB3.SA', 'CAMB3.SA', 'BALM3.SA', 'AMAR11.SA', 'MDIA3.SA', 'ALLD3.SA', 'TRAD3.SA', 'CXSE3.SA', 'BMKS3.SA', 'LOGN3.SA', 'NTCO3.SA', 'CEBR6.SA', 'JOPA3.SA', 'BMIN4.SA', 'USIM3.SA', 'BEES3.SA', 'SBSP3.SA', 'CCRO3.SA', 'MDNE3.SA', 'RRRP3.SA', 'DESK3.SA', 'WHRL4.SA', 'CEBR3.SA', 'INEP3.SA', 'AZEV11.SA', 'FRAS3.SA', 'SAPR3.SA', 'CBEE3.SA', 'SANB3.SA', 'MLAS3.SA', 'ZAMP3.SA', 'PDTC3.SA', 'NEXP3.SA', 'RNEW4.SA', 'SMTO3.SA', 'GMAT3.SA', 'AMBP3.SA', 'BDLL4.SA', 'SBFG3.SA', 'RAPT4.SA', 'ENGI4.SA', 'ENGI3.SA', 'VIVR3.SA', 'HETA4.SA', 'SMFT3.SA', 'USIM6.SA', 'MSPA3.SA', 'LVTC3.SA', 'DIRR3.SA', 'AALR3.SA', 'PLAS3.SA', 'TELB4.SA', 'ITSA4.SA', 'CBAV3.SA', 'INTB3.SA', 'BRKM3.SA', 'UNIP6.SA', 'BMEB4.SA', 'JHSF3.SA', 'GGBR3.SA', 'KLBN4.SA', 'ABEV3.SA', 'PGMN3.SA', 'LAND3.SA', 'BPAN4.SA', 'WEGE3.SA', 'ALOS3.SA', 'FIQE3.SA', 'NGRD3.SA', 'ALPK3.SA', 'NUTR3.SA', 'MYPK3.SA', 'POSI3.SA', 'ASAI3.SA', 'GGPS3.SA', 'CEBR5.SA', 'UCAS3.SA', 'ENMT3.SA', 'PSVM11.SA', 'EGIE3.SA', 'EQPA3.SA', 'CSAN3.SA', 'NINJ3.SA', 'ROMI3.SA', 'REDE3.SA', 'EMBR3.SA', 'WLMM4.SA', 'BNBR3.SA', 'BSLI3.SA', 'HAGA3.SA', 'BBSE3.SA', 'FLRY3.SA', 'MRSA6B.SA', 'EALT4.SA', 'TFCO4.SA', 'RAPT3.SA', 'CIEL3.SA', 'BMGB4.SA', 'VBBR3.SA', 'CSMG3.SA', 'CSUD3.SA', 'TEKA4.SA', 'LAVV3.SA', 'ALUP4.SA', 'TRIS3.SA', 'AFLT3.SA', 'VIVA3.SA', 'IRBR3.SA', 'LEVE3.SA', 'TUPY3.SA', 'SCAR3.SA', 'LJQQ3.SA', 'LWSA3.SA', 'CMIG4.SA', 'UGPA3.SA', 'CVCB3.SA', 'CSED3.SA', 'PATI3.SA', 'EVEN3.SA', 'ONCO3.SA', 'GOLL4.SA', 'LREN3.SA', 'DASA3.SA', 'MTSA4.SA', 'GRND3.SA', 'PLPL3.SA', 'POMO4.SA', 'VITT3.SA', 'CPLE5.SA', 'PATI4.SA', 'DXCO3.SA', 'BRAP3.SA', 'LIPR3.SA', 'BMIN3.SA', 'KLBN3.SA', 'WHRL3.SA', 'PMAM3.SA', 'CSNA3.SA', 'ENEV3.SA', 'ANIM3.SA', 'MNPR3.SA', 'BSLI4.SA', 'EUCA4.SA', 'RAIZ4.SA', 'MELK3.SA', 'DEXP4.SA', 'BRIT3.SA', 'VALE3.SA', 'RENT3.SA', 'BMOB3.SA', 'FRIO3.SA', 'FIEI3.SA', 'OIBR3.SA', 'CSRN3.SA', 'OFSA3.SA', 'DMVF3.SA', 'ARML3.SA', 'ESPA3.SA', 'RSID3.SA', 'TRPL4.SA', 'WEST3.SA', 'VIVT3.SA', 'BAZA3.SA', 'BMEB3.SA', 'PORT3.SA', 'ETER3.SA', 'MBLY3.SA', 'AHEB6.SA', 'RPMG3.SA', 'RSUL4.SA', 'CAML3.SA', 'PETR4.SA', 'VLID3.SA', 'VAMO3.SA', 'CRPG6.SA', 'HYPE3.SA', 'PSSA3.SA', 'BBAS3.SA', 'RPAD5.SA', 'ABCB4.SA', 'GOAU3.SA', 'SANB4.SA', 'ESTR4.SA', 'CTSA3.SA', 'MERC4.SA', 'HBRE3.SA', 'JSLG3.SA', 'PETZ3.SA', 'COGN3.SA', 'PTBL3.SA', 'RADL3.SA', 'CPLE6.SA', 'CEAB3.SA', 'GFSA3.SA', 'ORVR3.SA', 'MULT3.SA', 'COCE5.SA', 'SEQL3.SA', 'GEPA3.SA', 'EZTC3.SA', 'TTEN3.SA', 'VULC3.SA', 'GUAR3.SA', 'MRVE3.SA', 'TEND3.SA', 'MATD3.SA', 'TELB3.SA', 'MAPT3.SA', 'TRPL3.SA', 'RDOR3.SA', 'ALUP3.SA', 'PCAR3.SA', 'TECN3.SA', 'CMIN3.SA', 'EMAE3.SA', 'BAHI3.SA', 'MWET4.SA', 'CSRN5.SA', 'DOTZ3.SA', 'IFCM3.SA', 'BIOM11.SA', 'GGBR4.SA', 'HOOT4.SA', 'MRSA5B.SA', 'ENJU3.SA', 'EMAE4.SA', 'HBOR3.SA', 'LOGG3.SA', 'AESB3.SA', 'BRAP4.SA', 'SHUL4.SA', 'TAEE4.SA', 'RCSL3.SA', 'AZEV3.SA', 'SYNE3.SA', 'KRSA3.SA', 'CPLE3.SA', 'JBSS3.SA', 'MAPT4.SA', 'BPAC3.SA', 'HAGA4.SA', 'AERI3.SA', 'BBDC4.SA', 'CLSC4.SA', 'WIZC3.SA', 'BALM4.SA', 'ODPV3.SA', 'FESA4.SA', 'BIOM3.SA', 'NEOE3.SA', 'SHOW3.SA', 'OIBR4.SA', 'LUXM4.SA', 'CEDO4.SA', 'RPAD3.SA', 'IGTI3.SA', 'CGRA4.SA', 'BLAU3.SA', 'TIMS3.SA', 'SAPR4.SA'])\n"
     ]
    }
   ],
   "execution_count": 11
  },
  {
   "cell_type": "code",
   "metadata": {
    "id": "VIy4e2KS17gd",
    "ExecuteTime": {
     "end_time": "2024-10-07T22:54:48.601953Z",
     "start_time": "2024-10-07T22:54:48.588885Z"
    }
   },
   "source": [
    "dict_tickers_history = filter_tickers_history_by_age(dict_tickers_history, max_history_date, min_age_in_years=10)"
   ],
   "outputs": [],
   "execution_count": 12
  },
  {
   "cell_type": "code",
   "metadata": {
    "colab": {
     "base_uri": "https://localhost:8080/"
    },
    "id": "d5sFeMzsPePF",
    "outputId": "af3b66eb-5f99-4b6f-c65b-2807fdfa4494",
    "ExecuteTime": {
     "end_time": "2024-10-07T22:54:48.646955Z",
     "start_time": "2024-10-07T22:54:48.643832Z"
    }
   },
   "source": [
    "print(len(dict_tickers_history.keys()))\n",
    "print(dict_tickers_history.keys())"
   ],
   "outputs": [
    {
     "name": "stdout",
     "output_type": "stream",
     "text": [
      "288\n",
      "dict_keys(['DTCY3.SA', 'PETR3.SA', 'SUZB3.SA', 'BEEF3.SA', 'BRKM6.SA', 'ATMP3.SA', 'RCSL4.SA', 'BGIP3.SA', 'ITUB4.SA', 'BRFS3.SA', 'PTNT3.SA', 'BRKM5.SA', 'AHEB5.SA', 'CRPG5.SA', 'MILS3.SA', 'TASA4.SA', 'SNSY5.SA', 'CTKA4.SA', 'BGIP4.SA', 'EKTR4.SA', 'PNVL3.SA', 'YDUQ3.SA', 'EPAR3.SA', 'RDNI3.SA', 'TKNO4.SA', 'EALT3.SA', 'ITSA3.SA', 'QUAL3.SA', 'UNIP5.SA', 'CPFE3.SA', 'EQTL3.SA', 'FHER3.SA', 'AZEV4.SA', 'RANI3.SA', 'MRSA3B.SA', 'CGAS3.SA', 'POMO3.SA', 'CGAS5.SA', 'CSRN6.SA', 'CMIG3.SA', 'BBDC3.SA', 'ALPA3.SA', 'SEER3.SA', 'DEXP3.SA', 'KEPL3.SA', 'NORD3.SA', 'ATOM3.SA', 'MEAL3.SA', 'MRFG3.SA', 'USIM5.SA', 'LUPA3.SA', 'RNEW3.SA', 'AGRO3.SA', 'BRSR3.SA', 'PRIO3.SA', 'PFRM3.SA', 'PINE4.SA', 'DOHL4.SA', 'PINE3.SA', 'PTNT4.SA', 'AZZA3.SA', 'JFEN3.SA', 'PEAB3.SA', 'SLCE3.SA', 'BAUH4.SA', 'STBP3.SA', 'EQPA5.SA', 'GEPA4.SA', 'CGRA3.SA', 'PEAB4.SA', 'CLSC3.SA', 'TAEE3.SA', 'CEEB3.SA', 'BRSR5.SA', 'CYRE3.SA', 'VSTE3.SA', 'GOAU4.SA', 'ELET3.SA', 'CEDO3.SA', 'ELET6.SA', 'APER3.SA', 'MSPA4.SA', 'BHIA3.SA', 'TCSA3.SA', 'AHEB3.SA', 'TPIS3.SA', 'TOTS3.SA', 'FESA3.SA', 'BRSR6.SA', 'TGMA3.SA', 'BOBR4.SA', 'CEED3.SA', 'ITUB3.SA', 'MGEL4.SA', 'PDGR3.SA', 'LIGT3.SA', 'B3SA3.SA', 'ECOR3.SA', 'OSXB3.SA', 'MNDL3.SA', 'AMAR3.SA', 'CTSA4.SA', 'BEES4.SA', 'UNIP3.SA', 'HBTS5.SA', 'ENMT4.SA', 'EQMA3B.SA', 'AMER3.SA', 'EUCA3.SA', 'TASA3.SA', 'MGLU3.SA', 'SNSY3.SA', 'LPSB3.SA', 'CAMB3.SA', 'BALM3.SA', 'MDIA3.SA', 'BMKS3.SA', 'LOGN3.SA', 'CEBR6.SA', 'JOPA3.SA', 'BMIN4.SA', 'USIM3.SA', 'BEES3.SA', 'SBSP3.SA', 'CCRO3.SA', 'WHRL4.SA', 'CEBR3.SA', 'INEP3.SA', 'FRAS3.SA', 'SAPR3.SA', 'CBEE3.SA', 'SANB3.SA', 'PDTC3.SA', 'NEXP3.SA', 'SMTO3.SA', 'BDLL4.SA', 'RAPT4.SA', 'ENGI4.SA', 'ENGI3.SA', 'VIVR3.SA', 'HETA4.SA', 'USIM6.SA', 'MSPA3.SA', 'DIRR3.SA', 'PLAS3.SA', 'TELB4.SA', 'ITSA4.SA', 'BRKM3.SA', 'UNIP6.SA', 'BMEB4.SA', 'JHSF3.SA', 'GGBR3.SA', 'KLBN4.SA', 'ABEV3.SA', 'BPAN4.SA', 'WEGE3.SA', 'NUTR3.SA', 'MYPK3.SA', 'POSI3.SA', 'CEBR5.SA', 'UCAS3.SA', 'ENMT3.SA', 'EGIE3.SA', 'EQPA3.SA', 'CSAN3.SA', 'ROMI3.SA', 'REDE3.SA', 'EMBR3.SA', 'WLMM4.SA', 'BNBR3.SA', 'BSLI3.SA', 'HAGA3.SA', 'BBSE3.SA', 'FLRY3.SA', 'EALT4.SA', 'RAPT3.SA', 'CIEL3.SA', 'CSMG3.SA', 'CSUD3.SA', 'TEKA4.SA', 'TRIS3.SA', 'AFLT3.SA', 'LEVE3.SA', 'TUPY3.SA', 'SCAR3.SA', 'CMIG4.SA', 'UGPA3.SA', 'CVCB3.SA', 'PATI3.SA', 'EVEN3.SA', 'GOLL4.SA', 'LREN3.SA', 'DASA3.SA', 'MTSA4.SA', 'GRND3.SA', 'POMO4.SA', 'CPLE5.SA', 'PATI4.SA', 'DXCO3.SA', 'BRAP3.SA', 'LIPR3.SA', 'BMIN3.SA', 'KLBN3.SA', 'WHRL3.SA', 'PMAM3.SA', 'CSNA3.SA', 'ENEV3.SA', 'ANIM3.SA', 'MNPR3.SA', 'BSLI4.SA', 'EUCA4.SA', 'VALE3.SA', 'RENT3.SA', 'FRIO3.SA', 'FIEI3.SA', 'OIBR3.SA', 'CSRN3.SA', 'RSID3.SA', 'TRPL4.SA', 'VIVT3.SA', 'BAZA3.SA', 'BMEB3.SA', 'ETER3.SA', 'AHEB6.SA', 'RPMG3.SA', 'RSUL4.SA', 'PETR4.SA', 'VLID3.SA', 'CRPG6.SA', 'HYPE3.SA', 'PSSA3.SA', 'BBAS3.SA', 'RPAD5.SA', 'ABCB4.SA', 'GOAU3.SA', 'SANB4.SA', 'ESTR4.SA', 'CTSA3.SA', 'MERC4.SA', 'COGN3.SA', 'PTBL3.SA', 'RADL3.SA', 'CPLE6.SA', 'GFSA3.SA', 'MULT3.SA', 'COCE5.SA', 'GEPA3.SA', 'EZTC3.SA', 'VULC3.SA', 'GUAR3.SA', 'MRVE3.SA', 'TEND3.SA', 'TELB3.SA', 'MAPT3.SA', 'TRPL3.SA', 'PCAR3.SA', 'TECN3.SA', 'BAHI3.SA', 'MWET4.SA', 'CSRN5.SA', 'GGBR4.SA', 'HOOT4.SA', 'EMAE4.SA', 'HBOR3.SA', 'BRAP4.SA', 'SHUL4.SA', 'RCSL3.SA', 'AZEV3.SA', 'SYNE3.SA', 'CPLE3.SA', 'JBSS3.SA', 'MAPT4.SA', 'HAGA4.SA', 'BBDC4.SA', 'CLSC4.SA', 'BALM4.SA', 'ODPV3.SA', 'FESA4.SA', 'BIOM3.SA', 'SHOW3.SA', 'OIBR4.SA', 'LUXM4.SA', 'CEDO4.SA', 'RPAD3.SA', 'IGTI3.SA', 'CGRA4.SA', 'TIMS3.SA', 'SAPR4.SA'])\n"
     ]
    }
   ],
   "execution_count": 13
  },
  {
   "cell_type": "code",
   "metadata": {
    "id": "8pi6BeAaNQC7",
    "ExecuteTime": {
     "end_time": "2024-10-07T22:54:48.701787Z",
     "start_time": "2024-10-07T22:54:48.698564Z"
    }
   },
   "source": [
    "def filter_tickers_by_volume(dict_ticker_history: dict, date_filter: str, top: int) -> dict:\n",
    "  return dict(sorted(dict_tickers_history.items(), key=lambda item: item[1].loc[date_filter, 'Volume'], reverse=True)[:top])"
   ],
   "outputs": [],
   "execution_count": 14
  },
  {
   "cell_type": "code",
   "metadata": {
    "colab": {
     "base_uri": "https://localhost:8080/"
    },
    "id": "GFhODP1_U-d0",
    "outputId": "575600ed-d251-4693-e0c2-f6ae81157f72",
    "ExecuteTime": {
     "end_time": "2024-10-07T22:54:48.851518Z",
     "start_time": "2024-10-07T22:54:48.752861Z"
    }
   },
   "source": [
    "dict_tickers_history = filter_tickers_by_volume(dict_tickers_history, date_filter=max_history_date, top=100)\n",
    "print(f\"Total de tickers: {len(dict_tickers_history)}\")\n",
    "print(f\"{'Posição':>3}   {'Ticker Symbol':<13}   {'Volume':>10}\")\n",
    "print(\"-\" * 30)\n",
    "i = 0    \n",
    "for ticker, history in dict_tickers_history.items():\n",
    "    i += 1\n",
    "    volume = history.loc[max_history_date, \"Volume\"]\n",
    "    print(f\"{i}   {ticker:<13}   {volume:>10,.2f}\")"
   ],
   "outputs": [
    {
     "name": "stdout",
     "output_type": "stream",
     "text": [
      "Total de tickers: 100\n",
      "Posição   Ticker Symbol       Volume\n",
      "------------------------------\n",
      "1   CVCB3.SA        71,001,900.00\n",
      "2   EMBR3.SA        25,890,400.00\n",
      "3   ITSA4.SA        23,414,900.00\n",
      "4   PETR4.SA        21,421,900.00\n",
      "5   CIEL3.SA        20,929,200.00\n",
      "6   B3SA3.SA        20,491,200.00\n",
      "7   VALE3.SA        16,545,800.00\n",
      "8   ABEV3.SA        16,500,300.00\n",
      "9   BBDC4.SA        14,852,700.00\n",
      "10   COGN3.SA        14,615,200.00\n",
      "11   GFSA3.SA        13,601,100.00\n",
      "12   MRVE3.SA        13,504,400.00\n",
      "13   CMIG4.SA        13,371,410.00\n",
      "14   MGLU3.SA        12,859,371.00\n",
      "15   ITUB4.SA        12,555,300.00\n",
      "16   TRPL4.SA        12,457,500.00\n",
      "17   PETR3.SA        11,746,400.00\n",
      "18   LREN3.SA        11,687,800.00\n",
      "19   BBAS3.SA        11,680,800.00\n",
      "20   POMO4.SA        11,418,400.00\n",
      "21   CPLE3.SA        11,054,700.00\n",
      "22   CPLE6.SA        9,721,200.00\n",
      "23   ENEV3.SA        9,185,800.00\n",
      "24   FLRY3.SA        8,182,700.00\n",
      "25   PRIO3.SA        7,871,200.00\n",
      "26   USIM5.SA        7,530,100.00\n",
      "27   GOLL4.SA        6,823,300.00\n",
      "28   MRFG3.SA        6,361,100.00\n",
      "29   GOAU4.SA        5,645,600.00\n",
      "30   BRFS3.SA        5,641,900.00\n",
      "31   PCAR3.SA        5,493,800.00\n",
      "32   BEEF3.SA        5,368,200.00\n",
      "33   GGBR4.SA        5,254,200.00\n",
      "34   ANIM3.SA        4,870,700.00\n",
      "35   ELET3.SA        4,525,600.00\n",
      "36   UGPA3.SA        3,931,100.00\n",
      "37   CSAN3.SA        3,669,000.00\n",
      "38   BHIA3.SA        3,660,200.00\n",
      "39   RADL3.SA        3,658,400.00\n",
      "40   TIMS3.SA        3,623,900.00\n",
      "41   WEGE3.SA        3,536,300.00\n",
      "42   AMAR3.SA        3,453,600.00\n",
      "43   CCRO3.SA        3,423,500.00\n",
      "44   CYRE3.SA        3,412,900.00\n",
      "45   RENT3.SA        3,404,700.00\n",
      "46   BBDC3.SA        3,375,400.00\n",
      "47   ECOR3.SA        3,285,600.00\n",
      "48   CSNA3.SA        3,156,500.00\n",
      "49   EQTL3.SA        3,131,400.00\n",
      "50   TUPY3.SA        3,063,100.00\n",
      "51   STBP3.SA        3,028,300.00\n",
      "52   MDIA3.SA        2,861,200.00\n",
      "53   TOTS3.SA        2,839,400.00\n",
      "54   JHSF3.SA        2,709,500.00\n",
      "55   TEND3.SA        2,673,500.00\n",
      "56   JBSS3.SA        2,621,300.00\n",
      "57   SUZB3.SA        2,560,700.00\n",
      "58   DIRR3.SA        2,540,300.00\n",
      "59   BBSE3.SA        2,512,300.00\n",
      "60   LIGT3.SA        2,511,500.00\n",
      "61   QUAL3.SA        2,337,200.00\n",
      "62   BRKM5.SA        2,317,900.00\n",
      "63   DXCO3.SA        2,284,400.00\n",
      "64   EVEN3.SA        2,262,100.00\n",
      "65   AZEV4.SA        2,111,400.00\n",
      "66   RAPT4.SA        2,042,400.00\n",
      "67   YDUQ3.SA        1,983,800.00\n",
      "68   TRIS3.SA        1,970,300.00\n",
      "69   SAPR4.SA        1,928,600.00\n",
      "70   GRND3.SA        1,847,200.00\n",
      "71   MULT3.SA        1,722,500.00\n",
      "72   KEPL3.SA        1,694,600.00\n",
      "73   BPAN4.SA        1,595,900.00\n",
      "74   POSI3.SA        1,587,400.00\n",
      "75   SBSP3.SA        1,581,200.00\n",
      "76   MEAL3.SA        1,559,200.00\n",
      "77   KLBN4.SA        1,531,970.00\n",
      "78   GUAR3.SA        1,477,600.00\n",
      "79   RCSL3.SA        1,418,725.00\n",
      "80   SLCE3.SA        1,401,700.00\n",
      "81   HBOR3.SA        1,382,200.00\n",
      "82   VIVT3.SA        1,377,500.00\n",
      "83   AZZA3.SA        1,364,500.00\n",
      "84   EZTC3.SA        1,349,300.00\n",
      "85   PINE4.SA        1,314,600.00\n",
      "86   BRSR6.SA        1,127,500.00\n",
      "87   CPFE3.SA        1,111,700.00\n",
      "88   SMTO3.SA        1,102,300.00\n",
      "89   BRAP4.SA        1,056,800.00\n",
      "90   RCSL4.SA        1,005,150.00\n",
      "91   MYPK3.SA        998,800.00\n",
      "92   HYPE3.SA        994,200.00\n",
      "93   FESA4.SA        976,000.00\n",
      "94   LOGN3.SA        961,000.00\n",
      "95   PFRM3.SA        939,600.00\n",
      "96   EGIE3.SA        925,200.00\n",
      "97   MILS3.SA        888,600.00\n",
      "98   ELET6.SA        848,900.00\n",
      "99   CSMG3.SA        837,500.00\n",
      "100   PDGR3.SA        825,390.00\n"
     ]
    }
   ],
   "execution_count": 15
  },
  {
   "cell_type": "markdown",
   "metadata": {
    "id": "LxSSlXwxgsJh"
   },
   "source": [
    "## Predições\n",
    "Agora que selecionamos as 100 ações, iremos utilizar o LSTM e o ARIMA para predizer os valors\n",
    "\n"
   ]
  },
  {
   "metadata": {},
   "cell_type": "markdown",
   "source": "### Observando a quantidade de dados"
  },
  {
   "cell_type": "code",
   "source": [
    "def show_details(dict_tickers_history: dict):\n",
    "  print(f\"Qtd Tickers: {len(dict_tickers_history.keys())}\")\n",
    "  print(f\"Fist History size: {len(next(iter(dict_tickers_history.values())))}\")\n",
    "  print(f\"Fist Min date: {next(iter(dict_tickers_history.values())).index.min()}\")\n",
    "  print(f\"Fist Max date: {next(iter(dict_tickers_history.values())).index.max()}\")"
   ],
   "metadata": {
    "id": "-8SADnGwaIpR",
    "ExecuteTime": {
     "end_time": "2024-10-07T22:54:48.866526Z",
     "start_time": "2024-10-07T22:54:48.863711Z"
    }
   },
   "outputs": [],
   "execution_count": 16
  },
  {
   "cell_type": "code",
   "source": [
    "show_details(dict_tickers_history)"
   ],
   "metadata": {
    "colab": {
     "base_uri": "https://localhost:8080/"
    },
    "id": "PBR7JJ6rXsqO",
    "outputId": "9f51d35a-968e-41a7-8b3f-22e2463e8309",
    "ExecuteTime": {
     "end_time": "2024-10-07T22:54:48.919346Z",
     "start_time": "2024-10-07T22:54:48.916077Z"
    }
   },
   "outputs": [
    {
     "name": "stdout",
     "output_type": "stream",
     "text": [
      "Qtd Tickers: 100\n",
      "Fist History size: 2498\n",
      "Fist Min date: 2013-12-09 00:00:00+00:00\n",
      "Fist Max date: 2023-12-28 00:00:00+00:00\n"
     ]
    }
   ],
   "execution_count": 17
  },
  {
   "metadata": {},
   "cell_type": "markdown",
   "source": "### Separando o que vai ser utilizado de treino e de teste"
  },
  {
   "cell_type": "code",
   "metadata": {
    "id": "L_qlM3N_jFCJ",
    "ExecuteTime": {
     "end_time": "2024-10-07T22:54:48.973314Z",
     "start_time": "2024-10-07T22:54:48.970191Z"
    }
   },
   "source": [
    "def cut_tickers_history(dict_tickers_history: dict, max_history_date: str, years_to_intact: int) -> dict:\n",
    "  data_min = pytz.utc.localize(datetime.strptime(max_history_date, \"%Y-%m-%d\")) - relativedelta(years=years_to_intact)\n",
    "  for t, history in dict_tickers_history.items():\n",
    "    dict_tickers_history[t] = history[history.index > data_min]\n",
    "  return dict_tickers_history"
   ],
   "outputs": [],
   "execution_count": 18
  },
  {
   "cell_type": "code",
   "metadata": {
    "id": "gu3GAuPRnMHo",
    "colab": {
     "base_uri": "https://localhost:8080/"
    },
    "outputId": "1a08ea90-feb5-440d-bedd-7c4c6e3af99b",
    "ExecuteTime": {
     "end_time": "2024-10-07T22:54:49.047664Z",
     "start_time": "2024-10-07T22:54:49.023343Z"
    }
   },
   "source": [
    "dict_tickers_history = cut_tickers_history(dict_tickers_history, max_history_date, years_to_intact=10)\n",
    "show_details(dict_tickers_history)"
   ],
   "outputs": [
    {
     "name": "stdout",
     "output_type": "stream",
     "text": [
      "Qtd Tickers: 100\n",
      "Fist History size: 2485\n",
      "Fist Min date: 2013-12-30 00:00:00+00:00\n",
      "Fist Max date: 2023-12-28 00:00:00+00:00\n"
     ]
    }
   ],
   "execution_count": 19
  },
  {
   "cell_type": "code",
   "metadata": {
    "id": "if_8WqIUneKA",
    "ExecuteTime": {
     "end_time": "2024-10-07T22:54:49.082372Z",
     "start_time": "2024-10-07T22:54:49.078863Z"
    }
   },
   "source": [
    "def split_train_test(dict_tickers_history: dict, train_size: float) -> tuple[dict, dict]:\n",
    "  train = {}\n",
    "  test = {}\n",
    "  for t, h in dict_tickers_history.items():\n",
    "    limiar = int(len(h) * train_size)\n",
    "    train[t] = h.iloc[:limiar]\n",
    "    test[t] = h.iloc[limiar:]\n",
    "  return train, test"
   ],
   "outputs": [],
   "execution_count": 20
  },
  {
   "cell_type": "code",
   "metadata": {
    "colab": {
     "base_uri": "https://localhost:8080/"
    },
    "id": "_0vCY4Tvo5_X",
    "outputId": "7ec11b6b-8240-493a-a6d3-774d1ac00bcd",
    "ExecuteTime": {
     "end_time": "2024-10-07T22:54:49.148085Z",
     "start_time": "2024-10-07T22:54:49.134946Z"
    }
   },
   "source": [
    "train_history, test_history = split_train_test(dict_tickers_history, train_size = 0.5)\n",
    "print(\"Train\")\n",
    "show_details(train_history)\n",
    "print(\"-\"*30)\n",
    "print(\"Test\")\n",
    "show_details(test_history)"
   ],
   "outputs": [
    {
     "name": "stdout",
     "output_type": "stream",
     "text": [
      "Train\n",
      "Qtd Tickers: 100\n",
      "Fist History size: 1242\n",
      "Fist Min date: 2013-12-30 00:00:00+00:00\n",
      "Fist Max date: 2018-12-26 00:00:00+00:00\n",
      "------------------------------\n",
      "Test\n",
      "Qtd Tickers: 100\n",
      "Fist History size: 1243\n",
      "Fist Min date: 2018-12-27 00:00:00+00:00\n",
      "Fist Max date: 2023-12-28 00:00:00+00:00\n"
     ]
    }
   ],
   "execution_count": 21
  },
  {
   "cell_type": "code",
   "metadata": {
    "id": "CbgK7L78tl0-",
    "ExecuteTime": {
     "end_time": "2024-10-07T22:54:49.202282Z",
     "start_time": "2024-10-07T22:54:49.199728Z"
    }
   },
   "source": "model_filename_pattern = lambda ticker_symbol, model, ex: f'models/{ticker_symbol.replace(\".SA\", \"\")}_{model}_model.{ex}'",
   "outputs": [],
   "execution_count": 22
  },
  {
   "cell_type": "code",
   "metadata": {
    "id": "wURclO_pkqgJ",
    "ExecuteTime": {
     "end_time": "2024-10-07T22:54:49.519088Z",
     "start_time": "2024-10-07T22:54:49.248129Z"
    }
   },
   "source": [
    "from statsmodels.tsa.arima.model import ARIMA\n",
    "import pmdarima as pm\n",
    "import joblib as jl\n",
    "\n",
    "from pmdarima import auto_arima"
   ],
   "outputs": [],
   "execution_count": 23
  },
  {
   "metadata": {
    "ExecuteTime": {
     "end_time": "2024-10-07T22:54:49.540377Z",
     "start_time": "2024-10-07T22:54:49.537023Z"
    }
   },
   "cell_type": "code",
   "source": [
    "def filter_per_date(history: DataFrame, min_date, max_date):\n",
    "    return history[(history.index >= min_date) & (history.index <= max_date)]\n",
    "\n",
    "def show_history_details(ticker_history: DataFrame):\n",
    "  print(f\"Size: {len(ticker_history)}\")\n",
    "  print(f\"Min date: {ticker_history.index.min()}\")\n",
    "  print(f\"Max date: {ticker_history.index.max()}\")\n",
    "  \n",
    "ticker_name = \"ITSA4.SA\""
   ],
   "outputs": [],
   "execution_count": 24
  },
  {
   "metadata": {
    "ExecuteTime": {
     "end_time": "2024-10-07T22:54:49.632164Z",
     "start_time": "2024-10-07T22:54:49.614452Z"
    }
   },
   "cell_type": "code",
   "source": [
    "def separar_train_em_periodos(history) -> dict:\n",
    "    max_date = history.index.max()\n",
    "    return {\n",
    "        \"7 dias\": filter_per_date(history, min_date=max_date - timedelta(days=7), max_date=max_date),\n",
    "        \"1 mês\": filter_per_date(history, min_date=max_date - pd.DateOffset(months=1), max_date=max_date),\n",
    "        \"3 meses\": filter_per_date(history, min_date=max_date - pd.DateOffset(months=3), max_date=max_date),\n",
    "        \"6 meses\": filter_per_date(history, min_date=max_date - pd.DateOffset(months=6), max_date=max_date),\n",
    "        \"1 ano\": filter_per_date(history, min_date=max_date - pd.DateOffset(years=1), max_date=max_date),\n",
    "        \"3 anos\": filter_per_date(history, min_date=max_date - pd.DateOffset(years=3), max_date=max_date),\n",
    "        \"5 anos\": filter_per_date(history, min_date=max_date - pd.DateOffset(years=5), max_date=max_date)\n",
    "    }\n",
    "\n",
    "for periodo, history in separar_train_em_periodos(train_history[ticker_name]).items():\n",
    "    print(30*\"-\")\n",
    "    print(periodo)\n",
    "    show_history_details(history)"
   ],
   "outputs": [
    {
     "name": "stdout",
     "output_type": "stream",
     "text": [
      "------------------------------\n",
      "7 dias\n",
      "Size: 4\n",
      "Min date: 2018-12-19 00:00:00+00:00\n",
      "Max date: 2018-12-26 00:00:00+00:00\n",
      "------------------------------\n",
      "1 mês\n",
      "Size: 21\n",
      "Min date: 2018-11-26 00:00:00+00:00\n",
      "Max date: 2018-12-26 00:00:00+00:00\n",
      "------------------------------\n",
      "3 meses\n",
      "Size: 60\n",
      "Min date: 2018-09-26 00:00:00+00:00\n",
      "Max date: 2018-12-26 00:00:00+00:00\n",
      "------------------------------\n",
      "6 meses\n",
      "Size: 124\n",
      "Min date: 2018-06-26 00:00:00+00:00\n",
      "Max date: 2018-12-26 00:00:00+00:00\n",
      "------------------------------\n",
      "1 ano\n",
      "Size: 248\n",
      "Min date: 2017-12-26 00:00:00+00:00\n",
      "Max date: 2018-12-26 00:00:00+00:00\n",
      "------------------------------\n",
      "3 anos\n",
      "Size: 750\n",
      "Min date: 2015-12-28 00:00:00+00:00\n",
      "Max date: 2018-12-26 00:00:00+00:00\n",
      "------------------------------\n",
      "5 anos\n",
      "Size: 1242\n",
      "Min date: 2013-12-30 00:00:00+00:00\n",
      "Max date: 2018-12-26 00:00:00+00:00\n"
     ]
    }
   ],
   "execution_count": 25
  },
  {
   "metadata": {},
   "cell_type": "markdown",
   "source": "### Treinando e predizendo valores das ações com ARIMA e LSTM"
  },
  {
   "metadata": {
    "id": "HTAvvsHzkxxl",
    "ExecuteTime": {
     "end_time": "2024-10-07T22:54:49.751633Z",
     "start_time": "2024-10-07T22:54:49.747579Z"
    }
   },
   "cell_type": "code",
   "source": [
    "def get_prices(history: DataFrame) -> list:\n",
    "  return DataFrame(history[\"Close\"]).dropna().values"
   ],
   "outputs": [],
   "execution_count": 27
  },
  {
   "metadata": {
    "colab": {
     "base_uri": "https://localhost:8080/",
     "height": 132
    },
    "id": "u8ej91zMQBa7",
    "outputId": "30ae497d-e277-4e49-a170-943db83e4c57",
    "ExecuteTime": {
     "end_time": "2024-10-07T22:54:49.816420Z",
     "start_time": "2024-10-07T22:54:49.811656Z"
    }
   },
   "cell_type": "code",
   "source": [
    "def create_and_fit_arima(train_history: DataFrame):\n",
    "    arima_model = auto_arima(get_prices(train_history),\n",
    "                        start_p=0,\n",
    "                        start_q=0,\n",
    "                        d=0,\n",
    "                        max_p=7,\n",
    "                        max_q=7,\n",
    "                        max_d=2,\n",
    "                        max_order=None, # retira limitacao de p,d,q\n",
    "                        seasonal=False,\n",
    "                        trace=True,\n",
    "                        n_jobs=-1, # paralelizacao\n",
    "                        error_action='ignore',suppress_warnings=True,\n",
    "                        stepwise=False # optimizacao\n",
    "                                     )\n",
    "    return arima_model.fit(get_prices(train_history))\n",
    "        "
   ],
   "outputs": [],
   "execution_count": 28
  },
  {
   "metadata": {
    "colab": {
     "base_uri": "https://localhost:8080/",
     "height": 607
    },
    "id": "cpDkJt4WGqrf",
    "outputId": "5cbaab48-73f4-4a98-ba95-42dac1376086",
    "ExecuteTime": {
     "end_time": "2024-10-07T22:54:49.867780Z",
     "start_time": "2024-10-07T22:54:49.862422Z"
    }
   },
   "cell_type": "code",
   "source": [
    "def plot_arima_results(train_history: DataFrame, test_history: DataFrame, dict_pred: dict):\n",
    "    # Criando o gráfico\n",
    "    plt.figure(figsize=(10,6))\n",
    "    plt.plot(train_history.index, get_prices(train_history), label='Todo treino')\n",
    "    plt.plot(test_history.index, get_prices(test_history), label='Todo teste')\n",
    "    \n",
    "    for periodo, pred in dict_pred.items():\n",
    "        plt.plot(pred.index, pred.values, label=f'Treino com {periodo}')\n",
    "    \n",
    "    # Adicionando rótulos e título\n",
    "    plt.xlabel('Data')\n",
    "    plt.ylabel('Valores')\n",
    "    plt.title('Comparação de predições entre diferentes períodos de treino')\n",
    "    plt.legend()\n",
    "    \n",
    "    # Exibindo o gráfico\n",
    "    plt.grid(True)\n",
    "    plt.xticks(rotation=45)  # Rotacionar as datas para melhor visualização\n",
    "    plt.tight_layout()  # Ajustar espaçamento\n",
    "    plt.show()"
   ],
   "outputs": [],
   "execution_count": 29
  },
  {
   "metadata": {
    "ExecuteTime": {
     "end_time": "2024-10-07T22:54:49.917895Z",
     "start_time": "2024-10-07T22:54:49.913181Z"
    }
   },
   "cell_type": "code",
   "source": [
    "def predizer_valores_com_arima(train, test):\n",
    "    arima_model = auto_arima(get_prices(train),\n",
    "                        start_p=0,\n",
    "                        start_q=0,\n",
    "                        d=0,\n",
    "                        max_p=7,\n",
    "                        max_q=7,\n",
    "                        max_d=2,\n",
    "                        max_order=None, # retira limitacao de p,d,q\n",
    "                        seasonal=False,\n",
    "                        trace=True,\n",
    "                        n_jobs=-1, # paralelizacao\n",
    "                        error_action='ignore',suppress_warnings=True,\n",
    "                        stepwise=False # optimizacao\n",
    "                                     )\n",
    "    arima_model = arima_model.fit(get_prices(train))\n",
    "    pred = arima_model.predict(n_periods=len(test))\n",
    "    return pd.DataFrame({'pred_close': pred}, index=test.index)"
   ],
   "outputs": [],
   "execution_count": 30
  },
  {
   "metadata": {
    "ExecuteTime": {
     "end_time": "2024-10-08T02:04:37.872870Z",
     "start_time": "2024-10-08T02:04:37.854122Z"
    }
   },
   "cell_type": "code",
   "source": [
    "# dict[periodo][modelo][ticker][predicoes]\n",
    "\n",
    "def split_into_X_Y_lstm(history: DataFrame, time_step: int):\n",
    "  X, Y = [], []\n",
    "  close = DataFrame(history[\"Close\"])\n",
    "  for i in range(len(history) - time_step):\n",
    "      a = close.iloc[i:(i + time_step)].values\n",
    "      X.append(a)\n",
    "      Y.append(close.iloc[i + time_step].values)  # O valor que queremos prever\n",
    "  return np.array(X), np.array(Y)\n",
    "\n",
    "def create_lstm(train, time_step):\n",
    "    limiar = int(len(train) * 0.5)\n",
    "    X_train, y_train = split_into_X_Y_lstm(train.iloc[:limiar], time_step)\n",
    "    X_test, y_test = split_into_X_Y_lstm(train.iloc[limiar:], time_step)\n",
    "    \n",
    "    # Cria o modelo\n",
    "    lstm_model = Sequential()\n",
    "    lstm_model.add(LSTM(50, return_sequences=True, input_shape=(time_step, 1)))\n",
    "    lstm_model.add(LSTM(50, return_sequences=False))\n",
    "    lstm_model.add(Dense(25))\n",
    "    lstm_model.add(Dense(1))\n",
    "    lstm_model.compile(optimizer='adam', loss='mean_squared_error')\n",
    "    \n",
    "    # Treina o modelo\n",
    "    early_stopping = EarlyStopping(monitor='val_loss', patience=5, restore_best_weights=True, verbose=0)\n",
    "    lstm_model.fit(X_train, y_train, epochs=100, batch_size=32, validation_data=(X_test, y_test), verbose=0, callbacks=[early_stopping])\n",
    "    return lstm_model\n",
    "  \n",
    "  \n",
    "def predizer_valores_com_lstm(train, test):\n",
    "    time_step = int(len(train) * 0.3)\n",
    "    lstm_model = create_lstm(train, time_step)    \n",
    "    lst_pred = list()\n",
    "    X_input = split_into_X_Y_lstm(train, time_step)[0][-1].tolist()\n",
    "    for _ in range(len(test)):\n",
    "        pred = lstm_model.predict(np.array([X_input]), verbose=0)\n",
    "        lst_pred.append(pred[0][0])\n",
    "        \n",
    "        # Atualiza X_input para a próxima previsão\n",
    "        X_input.pop(0)\n",
    "        X_input.append(pred[0])\n",
    "    return pd.DataFrame({'pred_close': lst_pred}, index=test.index)\n",
    "\n",
    "def predizer_valores_acoes(dict_train_history: dict, dict_test_history: dict) -> dict:\n",
    "    dict_pred_results = dict()\n",
    "    progress = 0\n",
    "    for ticker_name, train_history in dict_train_history.items():\n",
    "        test_history = dict_test_history[ticker_name]\n",
    "        progress += 1\n",
    "        print(f\"Progresso: {progress} - {ticker_name}\")\n",
    "        for periodo, train in separar_train_em_periodos(train_history).items():\n",
    "            if not dict_pred_results.__contains__(periodo):\n",
    "                dict_pred_results[periodo] = {\"arima\": dict(), \"lstm\": dict()}\n",
    "            dict_pred_results[periodo][\"arima\"][ticker_name] = predizer_valores_com_arima(train, test_history)\n",
    "            dict_pred_results[periodo][\"lstm\"][ticker_name] = predizer_valores_com_lstm(train, test_history)\n",
    "    return dict_pred_results\n",
    "\n",
    "dict_pred_results = None\n",
    "if (os.path.exists(\"dict_pred_results.pkl\")):\n",
    "    dict_pred_results = jl.load(\"dict_pred_results.pkl\")\n",
    "else:\n",
    "    dict_pred_results = predizer_valores_acoes(train_history, test_history)\n",
    "    jl.dump(dict_pred_results, \"dict_pred_results.pkl\")"
   ],
   "outputs": [],
   "execution_count": 72
  },
  {
   "metadata": {},
   "cell_type": "markdown",
   "source": "### Analisando resultados"
  },
  {
   "metadata": {
    "ExecuteTime": {
     "end_time": "2024-10-08T02:04:46.156348Z",
     "start_time": "2024-10-08T02:04:46.099775Z"
    }
   },
   "cell_type": "code",
   "source": [
    "from sklearn.metrics import mean_absolute_percentage_error\n",
    "\n",
    "def calculate_mapes(dict_pred_results, test_history):\n",
    "    dict_mape = dict()\n",
    "    for periodo, dict_modelo in dict_pred_results.items():\n",
    "        for modelo, dict_ticker_name in dict_modelo.items():        \n",
    "            for ticker_name, y_pred in dict_ticker_name.items():\n",
    "                if not dict_mape.__contains__(periodo):\n",
    "                    dict_mape[periodo] = {\"arima\": dict(), \"lstm\": dict()}\n",
    "                dict_mape[periodo][modelo][ticker_name] = mean_absolute_percentage_error(y_true=get_prices(test_history[ticker_name]), y_pred=y_pred) * 100\n",
    "    return dict_mape\n",
    "\n",
    "dict_mape = calculate_mapes(dict_pred_results, test_history)\n",
    "print(dict_mape)"
   ],
   "outputs": [
    {
     "name": "stdout",
     "output_type": "stream",
     "text": [
      "{'7 dias': {'arima': {'CVCB3.SA': 100.0, 'EMBR3.SA': 41.238974078216025}, 'lstm': {'CVCB3.SA': 453.02973827080103, 'EMBR3.SA': 53.50301992612637}}, '1 mês': {'arima': {'CVCB3.SA': 502.2350498179783, 'EMBR3.SA': 47.53311732817077}, 'lstm': {'CVCB3.SA': 495.8483908022815, 'EMBR3.SA': 51.8459911018046}}, '3 meses': {'arima': {'CVCB3.SA': 410.71140162858165, 'EMBR3.SA': 38.98220455005983}, 'lstm': {'CVCB3.SA': 454.8720648384797, 'EMBR3.SA': 50.39298407721879}}, '6 meses': {'arima': {'CVCB3.SA': 418.99532966369543, 'EMBR3.SA': 39.662932424140685}, 'lstm': {'CVCB3.SA': 334.2202051741155, 'EMBR3.SA': 50.95102421735395}}, '1 ano': {'arima': {'CVCB3.SA': 441.38694527956676, 'EMBR3.SA': 40.341567166293494}, 'lstm': {'CVCB3.SA': 421.5508482775591, 'EMBR3.SA': 47.171016893033034}}, '3 anos': {'arima': {'CVCB3.SA': 446.7457504848078, 'EMBR3.SA': 42.39788860108389}, 'lstm': {'CVCB3.SA': 214.69376605878855, 'EMBR3.SA': 36.68699182122175}}, '5 anos': {'arima': {'CVCB3.SA': 466.98398279983763, 'EMBR3.SA': 45.10008833218782}, 'lstm': {'CVCB3.SA': 119.49064552740809, 'EMBR3.SA': 59.31955319749884}}}\n"
     ]
    }
   ],
   "execution_count": 73
  },
  {
   "metadata": {
    "ExecuteTime": {
     "end_time": "2024-10-08T02:04:48.321076Z",
     "start_time": "2024-10-08T02:04:48.315997Z"
    }
   },
   "cell_type": "code",
   "source": [
    "def calculate_mape_means(dict_mape):\n",
    "    dict_mape_means = dict()\n",
    "    for periodo, dict_modelo in dict_mape.items():\n",
    "        for modelo, dict_ticker_name in dict_modelo.items():        \n",
    "            sum = 0\n",
    "            n = 0\n",
    "            for _, mape in dict_ticker_name.items():\n",
    "                sum += mape\n",
    "                n+= 1\n",
    "            if not dict_mape_means.__contains__(periodo):\n",
    "                dict_mape_means[periodo] = dict()\n",
    "            dict_mape_means[periodo][modelo] = float(sum / n) # media dos mapes\n",
    "    return dict_mape_means\n",
    "            \n",
    "dict_mape_means = calculate_mape_means(dict_mape)\n",
    "print(dict_mape_means)"
   ],
   "outputs": [
    {
     "name": "stdout",
     "output_type": "stream",
     "text": [
      "{'7 dias': {'arima': 70.61948703910801, 'lstm': 253.2663790984637}, '1 mês': {'arima': 274.8840835730745, 'lstm': 273.84719095204304}, '3 meses': {'arima': 224.84680308932076, 'lstm': 252.63252445784923}, '6 meses': {'arima': 229.32913104391807, 'lstm': 192.58561469573473}, '1 ano': {'arima': 240.86425622293012, 'lstm': 234.36093258529607}, '3 anos': {'arima': 244.57181954294583, 'lstm': 125.69037894000516}, '5 anos': {'arima': 256.0420355660127, 'lstm': 89.40509936245347}}\n"
     ]
    }
   ],
   "execution_count": 74
  },
  {
   "metadata": {
    "ExecuteTime": {
     "end_time": "2024-10-08T02:04:56.169591Z",
     "start_time": "2024-10-08T02:04:55.959955Z"
    }
   },
   "cell_type": "code",
   "source": [
    "def mostrar_grafico_mapes(dict_mape_means):\n",
    "    # Extrair os períodos, os valores do ARIMA e do LSTM\n",
    "    periodos = list(dict_mape_means.keys())\n",
    "    arima_values = [dict_mape_means[periodo]['arima'] for periodo in periodos]\n",
    "    lstm_values = [dict_mape_means[periodo]['lstm'] for periodo in periodos]\n",
    "    \n",
    "    # Configurações do gráfico\n",
    "    bar_width = 0.35\n",
    "    index = np.arange(len(periodos))\n",
    "    \n",
    "    fig, ax = plt.subplots(figsize=(10, 6))\n",
    "    \n",
    "    # Criar as barras\n",
    "    ax.bar(index, arima_values, bar_width, label='ARIMA', color='b')\n",
    "    ax.bar(index + bar_width, lstm_values, bar_width, label='LSTM', color='g')\n",
    "    \n",
    "    # Título e labels\n",
    "    ax.set_xlabel('Períodos de treinamento')\n",
    "    ax.set_ylabel('MAPE médio (%)')\n",
    "    ax.set_title('Comparação entre ARIMA e LSTM por Período de treinamento')\n",
    "    ax.set_xticks(index + bar_width / 2)\n",
    "    ax.set_xticklabels(periodos)\n",
    "    ax.legend()\n",
    "    \n",
    "    # Exibir o gráfico\n",
    "    plt.tight_layout()\n",
    "    plt.show()\n",
    "    \n",
    "mostrar_grafico_mapes(dict_mape_means)"
   ],
   "outputs": [
    {
     "data": {
      "text/plain": [
       "<Figure size 1000x600 with 1 Axes>"
      ],
      "image/png": "[encoded data removed]"
     },
     "metadata": {},
     "output_type": "display_data"
    }
   ],
   "execution_count": 75
  }
 ],
 "metadata": {
  "colab": {
   "provenance": []
  },
  "kernelspec": {
   "display_name": "Python 3 (ipykernel)",
   "name": "python3",
   "language": "python"
  },
  "language_info": {
   "name": "python"
  }
 },
 "nbformat": 4,
 "nbformat_minor": 0
}
